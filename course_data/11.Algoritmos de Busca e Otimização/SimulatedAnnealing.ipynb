{
  "cells": [
    {
      "cell_type": "code",
      "execution_count": 1,
      "metadata": {
        "id": "2YPuUq9g6fkF"
      },
      "outputs": [],
      "source": [
        "import numpy as np\n",
        "from scipy.optimize import basinhopping"
      ]
    },
    {
      "cell_type": "code",
      "execution_count": 2,
      "metadata": {
        "colab": {
          "base_uri": "https://localhost:8080/"
        },
        "id": "9bvxktTW6_ZG",
        "outputId": "98b9d43e-3b0e-4a86-ffc0-e724ffc4c367"
      },
      "outputs": [
        {
          "name": "stdout",
          "output_type": "stream",
          "text": [
            "                    message: ['requested number of basinhopping iterations completed successfully']\n",
            "                    success: True\n",
            "                        fun: 1.60159008856757e-13\n",
            "                          x: [ 1.000e+00  1.000e+00]\n",
            "                        nit: 100\n",
            "      minimization_failures: 0\n",
            "                       nfev: 6939\n",
            "                       njev: 2313\n",
            " lowest_optimization_result:  message: CONVERGENCE: NORM_OF_PROJECTED_GRADIENT_<=_PGTOL\n",
            "                              success: True\n",
            "                               status: 0\n",
            "                                  fun: 1.60159008856757e-13\n",
            "                                    x: [ 1.000e+00  1.000e+00]\n",
            "                                  nit: 18\n",
            "                                  jac: [ 1.224e-06  1.996e-06]\n",
            "                                 nfev: 120\n",
            "                                 njev: 40\n",
            "                             hess_inv: <2x2 LbfgsInvHessProduct with dtype=float64>\n"
          ]
        }
      ],
      "source": [
        "def rosenbrock(x):\n",
        "  return (1 - x[0])**2 + 100*(x[1] - x[0]**2)**2\n",
        "\n",
        "bounds = [(-2,2),(-2,2)]\n",
        "\n",
        "x0 = np.array([0,0])\n",
        "\n",
        "options = {'stepsize': 0.5, 'T': 1.0, 'niter': 100, 'disp': False}\n",
        "\n",
        "result = basinhopping(rosenbrock,x0,minimizer_kwargs={'bounds': bounds},**options)\n",
        "\n",
        "print(result)"
      ]
    }
  ],
  "metadata": {
    "colab": {
      "provenance": []
    },
    "kernelspec": {
      "display_name": "Python 3",
      "name": "python3"
    },
    "language_info": {
      "name": "python"
    }
  },
  "nbformat": 4,
  "nbformat_minor": 0
}
